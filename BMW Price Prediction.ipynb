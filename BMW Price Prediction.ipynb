{
 "cells": [
  {
   "cell_type": "markdown",
   "id": "99ed8bee",
   "metadata": {},
   "source": [
    "# BMW Price Prediction (Regression)"
   ]
  },
  {
   "cell_type": "code",
   "execution_count": 265,
   "id": "4f7ff6a1",
   "metadata": {},
   "outputs": [],
   "source": [
    "import numpy as np\n",
    "import pandas as pd\n",
    "from pandas_profiling import ProfileReport\n",
    "from fast_ml.feature_selection import get_constant_features\n",
    "import warnings\n",
    "import matplotlib.pyplot as plt\n",
    "from sklearn.preprocessing import LabelEncoder, StandardScaler\n",
    "import seaborn as sns\n",
    "from sklearn.ensemble import ExtraTreesRegressor, RandomForestRegressor, HistGradientBoostingRegressor\n",
    "import lightgbm\n",
    "from sklearn.feature_selection import mutual_info_regression\n",
    "from statsmodels.stats.outliers_influence import variance_inflation_factor\n",
    "from sklearn.model_selection import train_test_split, KFold, cross_val_score, RandomizedSearchCV\n",
    "from sklearn.metrics import mean_absolute_error\n",
    "import pickle\n",
    "\n",
    "warnings.simplefilter('ignore')\n",
    "%matplotlib inline"
   ]
  },
  {
   "cell_type": "code",
   "execution_count": 177,
   "id": "3189e999",
   "metadata": {},
   "outputs": [
    {
     "data": {
      "text/html": [
       "<div>\n",
       "<style scoped>\n",
       "    .dataframe tbody tr th:only-of-type {\n",
       "        vertical-align: middle;\n",
       "    }\n",
       "\n",
       "    .dataframe tbody tr th {\n",
       "        vertical-align: top;\n",
       "    }\n",
       "\n",
       "    .dataframe thead th {\n",
       "        text-align: right;\n",
       "    }\n",
       "</style>\n",
       "<table border=\"1\" class=\"dataframe\">\n",
       "  <thead>\n",
       "    <tr style=\"text-align: right;\">\n",
       "      <th></th>\n",
       "      <th>maker_key</th>\n",
       "      <th>model_key</th>\n",
       "      <th>mileage</th>\n",
       "      <th>engine_power</th>\n",
       "      <th>registration_date</th>\n",
       "      <th>fuel</th>\n",
       "      <th>paint_color</th>\n",
       "      <th>car_type</th>\n",
       "      <th>feature_1</th>\n",
       "      <th>feature_2</th>\n",
       "      <th>feature_3</th>\n",
       "      <th>feature_4</th>\n",
       "      <th>feature_5</th>\n",
       "      <th>feature_6</th>\n",
       "      <th>feature_7</th>\n",
       "      <th>feature_8</th>\n",
       "      <th>price</th>\n",
       "      <th>sold_at</th>\n",
       "    </tr>\n",
       "  </thead>\n",
       "  <tbody>\n",
       "    <tr>\n",
       "      <th>0</th>\n",
       "      <td>BMW</td>\n",
       "      <td>118</td>\n",
       "      <td>140411</td>\n",
       "      <td>100</td>\n",
       "      <td>2012-02-01</td>\n",
       "      <td>diesel</td>\n",
       "      <td>black</td>\n",
       "      <td>convertible</td>\n",
       "      <td>True</td>\n",
       "      <td>True</td>\n",
       "      <td>False</td>\n",
       "      <td>False</td>\n",
       "      <td>True</td>\n",
       "      <td>True</td>\n",
       "      <td>True</td>\n",
       "      <td>False</td>\n",
       "      <td>11300</td>\n",
       "      <td>2018-01-01</td>\n",
       "    </tr>\n",
       "    <tr>\n",
       "      <th>1</th>\n",
       "      <td>BMW</td>\n",
       "      <td>M4</td>\n",
       "      <td>13929</td>\n",
       "      <td>317</td>\n",
       "      <td>2016-04-01</td>\n",
       "      <td>petrol</td>\n",
       "      <td>grey</td>\n",
       "      <td>convertible</td>\n",
       "      <td>True</td>\n",
       "      <td>True</td>\n",
       "      <td>False</td>\n",
       "      <td>False</td>\n",
       "      <td>False</td>\n",
       "      <td>True</td>\n",
       "      <td>True</td>\n",
       "      <td>True</td>\n",
       "      <td>69700</td>\n",
       "      <td>2018-02-01</td>\n",
       "    </tr>\n",
       "    <tr>\n",
       "      <th>2</th>\n",
       "      <td>BMW</td>\n",
       "      <td>320</td>\n",
       "      <td>183297</td>\n",
       "      <td>120</td>\n",
       "      <td>2012-04-01</td>\n",
       "      <td>diesel</td>\n",
       "      <td>white</td>\n",
       "      <td>convertible</td>\n",
       "      <td>False</td>\n",
       "      <td>False</td>\n",
       "      <td>False</td>\n",
       "      <td>False</td>\n",
       "      <td>True</td>\n",
       "      <td>False</td>\n",
       "      <td>True</td>\n",
       "      <td>False</td>\n",
       "      <td>10200</td>\n",
       "      <td>2018-02-01</td>\n",
       "    </tr>\n",
       "    <tr>\n",
       "      <th>3</th>\n",
       "      <td>BMW</td>\n",
       "      <td>420</td>\n",
       "      <td>128035</td>\n",
       "      <td>135</td>\n",
       "      <td>2014-07-01</td>\n",
       "      <td>diesel</td>\n",
       "      <td>red</td>\n",
       "      <td>convertible</td>\n",
       "      <td>True</td>\n",
       "      <td>True</td>\n",
       "      <td>False</td>\n",
       "      <td>False</td>\n",
       "      <td>True</td>\n",
       "      <td>True</td>\n",
       "      <td>True</td>\n",
       "      <td>True</td>\n",
       "      <td>25100</td>\n",
       "      <td>2018-02-01</td>\n",
       "    </tr>\n",
       "    <tr>\n",
       "      <th>4</th>\n",
       "      <td>BMW</td>\n",
       "      <td>425</td>\n",
       "      <td>97097</td>\n",
       "      <td>160</td>\n",
       "      <td>2014-12-01</td>\n",
       "      <td>diesel</td>\n",
       "      <td>silver</td>\n",
       "      <td>convertible</td>\n",
       "      <td>True</td>\n",
       "      <td>True</td>\n",
       "      <td>False</td>\n",
       "      <td>False</td>\n",
       "      <td>False</td>\n",
       "      <td>True</td>\n",
       "      <td>True</td>\n",
       "      <td>True</td>\n",
       "      <td>33400</td>\n",
       "      <td>2018-04-01</td>\n",
       "    </tr>\n",
       "    <tr>\n",
       "      <th>...</th>\n",
       "      <td>...</td>\n",
       "      <td>...</td>\n",
       "      <td>...</td>\n",
       "      <td>...</td>\n",
       "      <td>...</td>\n",
       "      <td>...</td>\n",
       "      <td>...</td>\n",
       "      <td>...</td>\n",
       "      <td>...</td>\n",
       "      <td>...</td>\n",
       "      <td>...</td>\n",
       "      <td>...</td>\n",
       "      <td>...</td>\n",
       "      <td>...</td>\n",
       "      <td>...</td>\n",
       "      <td>...</td>\n",
       "      <td>...</td>\n",
       "      <td>...</td>\n",
       "    </tr>\n",
       "    <tr>\n",
       "      <th>4838</th>\n",
       "      <td>BMW</td>\n",
       "      <td>218 Gran Tourer</td>\n",
       "      <td>39743</td>\n",
       "      <td>110</td>\n",
       "      <td>2015-10-01</td>\n",
       "      <td>diesel</td>\n",
       "      <td>black</td>\n",
       "      <td>van</td>\n",
       "      <td>False</td>\n",
       "      <td>True</td>\n",
       "      <td>False</td>\n",
       "      <td>False</td>\n",
       "      <td>False</td>\n",
       "      <td>False</td>\n",
       "      <td>True</td>\n",
       "      <td>False</td>\n",
       "      <td>14600</td>\n",
       "      <td>2018-08-01</td>\n",
       "    </tr>\n",
       "    <tr>\n",
       "      <th>4839</th>\n",
       "      <td>BMW</td>\n",
       "      <td>218 Active Tourer</td>\n",
       "      <td>49832</td>\n",
       "      <td>100</td>\n",
       "      <td>2015-06-01</td>\n",
       "      <td>diesel</td>\n",
       "      <td>grey</td>\n",
       "      <td>van</td>\n",
       "      <td>False</td>\n",
       "      <td>True</td>\n",
       "      <td>False</td>\n",
       "      <td>False</td>\n",
       "      <td>False</td>\n",
       "      <td>False</td>\n",
       "      <td>True</td>\n",
       "      <td>True</td>\n",
       "      <td>17500</td>\n",
       "      <td>2018-08-01</td>\n",
       "    </tr>\n",
       "    <tr>\n",
       "      <th>4840</th>\n",
       "      <td>BMW</td>\n",
       "      <td>218 Gran Tourer</td>\n",
       "      <td>19633</td>\n",
       "      <td>110</td>\n",
       "      <td>2015-10-01</td>\n",
       "      <td>diesel</td>\n",
       "      <td>grey</td>\n",
       "      <td>van</td>\n",
       "      <td>False</td>\n",
       "      <td>True</td>\n",
       "      <td>False</td>\n",
       "      <td>False</td>\n",
       "      <td>False</td>\n",
       "      <td>False</td>\n",
       "      <td>True</td>\n",
       "      <td>True</td>\n",
       "      <td>17000</td>\n",
       "      <td>2018-09-01</td>\n",
       "    </tr>\n",
       "    <tr>\n",
       "      <th>4841</th>\n",
       "      <td>BMW</td>\n",
       "      <td>218 Active Tourer</td>\n",
       "      <td>27920</td>\n",
       "      <td>110</td>\n",
       "      <td>2016-04-01</td>\n",
       "      <td>diesel</td>\n",
       "      <td>brown</td>\n",
       "      <td>van</td>\n",
       "      <td>True</td>\n",
       "      <td>True</td>\n",
       "      <td>False</td>\n",
       "      <td>False</td>\n",
       "      <td>False</td>\n",
       "      <td>False</td>\n",
       "      <td>True</td>\n",
       "      <td>True</td>\n",
       "      <td>22700</td>\n",
       "      <td>2018-09-01</td>\n",
       "    </tr>\n",
       "    <tr>\n",
       "      <th>4842</th>\n",
       "      <td>BMW</td>\n",
       "      <td>525</td>\n",
       "      <td>195840</td>\n",
       "      <td>160</td>\n",
       "      <td>2013-01-01</td>\n",
       "      <td>diesel</td>\n",
       "      <td>grey</td>\n",
       "      <td>van</td>\n",
       "      <td>True</td>\n",
       "      <td>True</td>\n",
       "      <td>False</td>\n",
       "      <td>False</td>\n",
       "      <td>True</td>\n",
       "      <td>False</td>\n",
       "      <td>True</td>\n",
       "      <td>True</td>\n",
       "      <td>15500</td>\n",
       "      <td>2018-09-01</td>\n",
       "    </tr>\n",
       "  </tbody>\n",
       "</table>\n",
       "<p>4843 rows × 18 columns</p>\n",
       "</div>"
      ],
      "text/plain": [
       "     maker_key          model_key  mileage  engine_power registration_date  \\\n",
       "0          BMW                118   140411           100        2012-02-01   \n",
       "1          BMW                 M4    13929           317        2016-04-01   \n",
       "2          BMW                320   183297           120        2012-04-01   \n",
       "3          BMW                420   128035           135        2014-07-01   \n",
       "4          BMW                425    97097           160        2014-12-01   \n",
       "...        ...                ...      ...           ...               ...   \n",
       "4838       BMW    218 Gran Tourer    39743           110        2015-10-01   \n",
       "4839       BMW  218 Active Tourer    49832           100        2015-06-01   \n",
       "4840       BMW    218 Gran Tourer    19633           110        2015-10-01   \n",
       "4841       BMW  218 Active Tourer    27920           110        2016-04-01   \n",
       "4842       BMW                525   195840           160        2013-01-01   \n",
       "\n",
       "        fuel paint_color     car_type  feature_1  feature_2  feature_3  \\\n",
       "0     diesel       black  convertible       True       True      False   \n",
       "1     petrol        grey  convertible       True       True      False   \n",
       "2     diesel       white  convertible      False      False      False   \n",
       "3     diesel         red  convertible       True       True      False   \n",
       "4     diesel      silver  convertible       True       True      False   \n",
       "...      ...         ...          ...        ...        ...        ...   \n",
       "4838  diesel       black          van      False       True      False   \n",
       "4839  diesel        grey          van      False       True      False   \n",
       "4840  diesel        grey          van      False       True      False   \n",
       "4841  diesel       brown          van       True       True      False   \n",
       "4842  diesel        grey          van       True       True      False   \n",
       "\n",
       "      feature_4  feature_5  feature_6  feature_7  feature_8  price     sold_at  \n",
       "0         False       True       True       True      False  11300  2018-01-01  \n",
       "1         False      False       True       True       True  69700  2018-02-01  \n",
       "2         False       True      False       True      False  10200  2018-02-01  \n",
       "3         False       True       True       True       True  25100  2018-02-01  \n",
       "4         False      False       True       True       True  33400  2018-04-01  \n",
       "...         ...        ...        ...        ...        ...    ...         ...  \n",
       "4838      False      False      False       True      False  14600  2018-08-01  \n",
       "4839      False      False      False       True       True  17500  2018-08-01  \n",
       "4840      False      False      False       True       True  17000  2018-09-01  \n",
       "4841      False      False      False       True       True  22700  2018-09-01  \n",
       "4842      False       True      False       True       True  15500  2018-09-01  \n",
       "\n",
       "[4843 rows x 18 columns]"
      ]
     },
     "execution_count": 177,
     "metadata": {},
     "output_type": "execute_result"
    }
   ],
   "source": [
    "df = pd.read_csv('bmw_pricing_challenge.csv')\n",
    "df"
   ]
  },
  {
   "cell_type": "code",
   "execution_count": 267,
   "id": "802b17a5",
   "metadata": {},
   "outputs": [],
   "source": [
    "# ProfileReport(df)"
   ]
  },
  {
   "cell_type": "markdown",
   "id": "98aca878",
   "metadata": {},
   "source": [
    "1. maker_key is constant - drop it\n",
    "2. model_key can be checked with feature selection\n",
    "3. Handling categorical columns\n",
    "4. handling true,false in all features (1-8)\n",
    "5. registration and sold date will give us the insight of how old the car (age of the car)\n",
    "6. mileage has negative number - not possible - drop the row\n",
    "7. engine power has minimum value as 0 - not possible - drop the row"
   ]
  },
  {
   "cell_type": "markdown",
   "id": "f6457e61",
   "metadata": {},
   "source": [
    "# Checking for constant and quasi-constant features"
   ]
  },
  {
   "cell_type": "code",
   "execution_count": 114,
   "id": "5ecbd6d4",
   "metadata": {},
   "outputs": [
    {
     "data": {
      "text/html": [
       "<div>\n",
       "<style scoped>\n",
       "    .dataframe tbody tr th:only-of-type {\n",
       "        vertical-align: middle;\n",
       "    }\n",
       "\n",
       "    .dataframe tbody tr th {\n",
       "        vertical-align: top;\n",
       "    }\n",
       "\n",
       "    .dataframe thead th {\n",
       "        text-align: right;\n",
       "    }\n",
       "</style>\n",
       "<table border=\"1\" class=\"dataframe\">\n",
       "  <thead>\n",
       "    <tr style=\"text-align: right;\">\n",
       "      <th></th>\n",
       "      <th>Desc</th>\n",
       "      <th>Var</th>\n",
       "      <th>Value</th>\n",
       "      <th>Perc</th>\n",
       "    </tr>\n",
       "  </thead>\n",
       "  <tbody>\n",
       "    <tr>\n",
       "      <th>0</th>\n",
       "      <td>Constant</td>\n",
       "      <td>maker_key</td>\n",
       "      <td>BMW</td>\n",
       "      <td>100.0</td>\n",
       "    </tr>\n",
       "  </tbody>\n",
       "</table>\n",
       "</div>"
      ],
      "text/plain": [
       "       Desc        Var Value   Perc\n",
       "0  Constant  maker_key   BMW  100.0"
      ]
     },
     "execution_count": 114,
     "metadata": {},
     "output_type": "execute_result"
    }
   ],
   "source": [
    "get_constant_features(df) #result matching with our inference from profile report"
   ]
  },
  {
   "cell_type": "code",
   "execution_count": 178,
   "id": "5270145a",
   "metadata": {},
   "outputs": [],
   "source": [
    "#dropping maker_key\n",
    "\n",
    "df.drop(columns=['maker_key'], inplace = True)"
   ]
  },
  {
   "cell_type": "code",
   "execution_count": 116,
   "id": "a6222905",
   "metadata": {},
   "outputs": [
    {
     "data": {
      "text/plain": [
       "Index(['model_key', 'mileage', 'engine_power', 'registration_date', 'fuel',\n",
       "       'paint_color', 'car_type', 'feature_1', 'feature_2', 'feature_3',\n",
       "       'feature_4', 'feature_5', 'feature_6', 'feature_7', 'feature_8',\n",
       "       'price', 'sold_at'],\n",
       "      dtype='object')"
      ]
     },
     "execution_count": 116,
     "metadata": {},
     "output_type": "execute_result"
    }
   ],
   "source": [
    "df.columns"
   ]
  },
  {
   "cell_type": "markdown",
   "id": "e76e64ab",
   "metadata": {},
   "source": [
    "# Checking for duplicate rows and columns"
   ]
  },
  {
   "cell_type": "code",
   "execution_count": 117,
   "id": "647d5ddd",
   "metadata": {},
   "outputs": [
    {
     "data": {
      "text/plain": [
       "0"
      ]
     },
     "execution_count": 117,
     "metadata": {},
     "output_type": "execute_result"
    }
   ],
   "source": [
    "#checking row-wise\n",
    "df.duplicated().sum()"
   ]
  },
  {
   "cell_type": "code",
   "execution_count": 118,
   "id": "14892431",
   "metadata": {},
   "outputs": [
    {
     "data": {
      "text/plain": [
       "0"
      ]
     },
     "execution_count": 118,
     "metadata": {},
     "output_type": "execute_result"
    }
   ],
   "source": [
    "#checking column-wise\n",
    "df.T.duplicated().sum()"
   ]
  },
  {
   "cell_type": "code",
   "execution_count": 92,
   "id": "4261cdbc",
   "metadata": {},
   "outputs": [
    {
     "data": {
      "text/html": [
       "<div>\n",
       "<style scoped>\n",
       "    .dataframe tbody tr th:only-of-type {\n",
       "        vertical-align: middle;\n",
       "    }\n",
       "\n",
       "    .dataframe tbody tr th {\n",
       "        vertical-align: top;\n",
       "    }\n",
       "\n",
       "    .dataframe thead th {\n",
       "        text-align: right;\n",
       "    }\n",
       "</style>\n",
       "<table border=\"1\" class=\"dataframe\">\n",
       "  <thead>\n",
       "    <tr style=\"text-align: right;\">\n",
       "      <th></th>\n",
       "      <th>model_key</th>\n",
       "      <th>mileage</th>\n",
       "      <th>engine_power</th>\n",
       "      <th>registration_date</th>\n",
       "      <th>fuel</th>\n",
       "      <th>paint_color</th>\n",
       "      <th>car_type</th>\n",
       "      <th>feature_1</th>\n",
       "      <th>feature_2</th>\n",
       "      <th>feature_3</th>\n",
       "      <th>feature_4</th>\n",
       "      <th>feature_5</th>\n",
       "      <th>feature_6</th>\n",
       "      <th>feature_7</th>\n",
       "      <th>feature_8</th>\n",
       "      <th>price</th>\n",
       "      <th>sold_at</th>\n",
       "    </tr>\n",
       "  </thead>\n",
       "  <tbody>\n",
       "    <tr>\n",
       "      <th>0</th>\n",
       "      <td>118</td>\n",
       "      <td>140411</td>\n",
       "      <td>100</td>\n",
       "      <td>2012-02-01</td>\n",
       "      <td>diesel</td>\n",
       "      <td>black</td>\n",
       "      <td>convertible</td>\n",
       "      <td>True</td>\n",
       "      <td>True</td>\n",
       "      <td>False</td>\n",
       "      <td>False</td>\n",
       "      <td>True</td>\n",
       "      <td>True</td>\n",
       "      <td>True</td>\n",
       "      <td>False</td>\n",
       "      <td>11300</td>\n",
       "      <td>2018-01-01</td>\n",
       "    </tr>\n",
       "    <tr>\n",
       "      <th>1</th>\n",
       "      <td>M4</td>\n",
       "      <td>13929</td>\n",
       "      <td>317</td>\n",
       "      <td>2016-04-01</td>\n",
       "      <td>petrol</td>\n",
       "      <td>grey</td>\n",
       "      <td>convertible</td>\n",
       "      <td>True</td>\n",
       "      <td>True</td>\n",
       "      <td>False</td>\n",
       "      <td>False</td>\n",
       "      <td>False</td>\n",
       "      <td>True</td>\n",
       "      <td>True</td>\n",
       "      <td>True</td>\n",
       "      <td>69700</td>\n",
       "      <td>2018-02-01</td>\n",
       "    </tr>\n",
       "    <tr>\n",
       "      <th>2</th>\n",
       "      <td>320</td>\n",
       "      <td>183297</td>\n",
       "      <td>120</td>\n",
       "      <td>2012-04-01</td>\n",
       "      <td>diesel</td>\n",
       "      <td>white</td>\n",
       "      <td>convertible</td>\n",
       "      <td>False</td>\n",
       "      <td>False</td>\n",
       "      <td>False</td>\n",
       "      <td>False</td>\n",
       "      <td>True</td>\n",
       "      <td>False</td>\n",
       "      <td>True</td>\n",
       "      <td>False</td>\n",
       "      <td>10200</td>\n",
       "      <td>2018-02-01</td>\n",
       "    </tr>\n",
       "    <tr>\n",
       "      <th>3</th>\n",
       "      <td>420</td>\n",
       "      <td>128035</td>\n",
       "      <td>135</td>\n",
       "      <td>2014-07-01</td>\n",
       "      <td>diesel</td>\n",
       "      <td>red</td>\n",
       "      <td>convertible</td>\n",
       "      <td>True</td>\n",
       "      <td>True</td>\n",
       "      <td>False</td>\n",
       "      <td>False</td>\n",
       "      <td>True</td>\n",
       "      <td>True</td>\n",
       "      <td>True</td>\n",
       "      <td>True</td>\n",
       "      <td>25100</td>\n",
       "      <td>2018-02-01</td>\n",
       "    </tr>\n",
       "    <tr>\n",
       "      <th>4</th>\n",
       "      <td>425</td>\n",
       "      <td>97097</td>\n",
       "      <td>160</td>\n",
       "      <td>2014-12-01</td>\n",
       "      <td>diesel</td>\n",
       "      <td>silver</td>\n",
       "      <td>convertible</td>\n",
       "      <td>True</td>\n",
       "      <td>True</td>\n",
       "      <td>False</td>\n",
       "      <td>False</td>\n",
       "      <td>False</td>\n",
       "      <td>True</td>\n",
       "      <td>True</td>\n",
       "      <td>True</td>\n",
       "      <td>33400</td>\n",
       "      <td>2018-04-01</td>\n",
       "    </tr>\n",
       "    <tr>\n",
       "      <th>...</th>\n",
       "      <td>...</td>\n",
       "      <td>...</td>\n",
       "      <td>...</td>\n",
       "      <td>...</td>\n",
       "      <td>...</td>\n",
       "      <td>...</td>\n",
       "      <td>...</td>\n",
       "      <td>...</td>\n",
       "      <td>...</td>\n",
       "      <td>...</td>\n",
       "      <td>...</td>\n",
       "      <td>...</td>\n",
       "      <td>...</td>\n",
       "      <td>...</td>\n",
       "      <td>...</td>\n",
       "      <td>...</td>\n",
       "      <td>...</td>\n",
       "    </tr>\n",
       "    <tr>\n",
       "      <th>4838</th>\n",
       "      <td>218 Gran Tourer</td>\n",
       "      <td>39743</td>\n",
       "      <td>110</td>\n",
       "      <td>2015-10-01</td>\n",
       "      <td>diesel</td>\n",
       "      <td>black</td>\n",
       "      <td>van</td>\n",
       "      <td>False</td>\n",
       "      <td>True</td>\n",
       "      <td>False</td>\n",
       "      <td>False</td>\n",
       "      <td>False</td>\n",
       "      <td>False</td>\n",
       "      <td>True</td>\n",
       "      <td>False</td>\n",
       "      <td>14600</td>\n",
       "      <td>2018-08-01</td>\n",
       "    </tr>\n",
       "    <tr>\n",
       "      <th>4839</th>\n",
       "      <td>218 Active Tourer</td>\n",
       "      <td>49832</td>\n",
       "      <td>100</td>\n",
       "      <td>2015-06-01</td>\n",
       "      <td>diesel</td>\n",
       "      <td>grey</td>\n",
       "      <td>van</td>\n",
       "      <td>False</td>\n",
       "      <td>True</td>\n",
       "      <td>False</td>\n",
       "      <td>False</td>\n",
       "      <td>False</td>\n",
       "      <td>False</td>\n",
       "      <td>True</td>\n",
       "      <td>True</td>\n",
       "      <td>17500</td>\n",
       "      <td>2018-08-01</td>\n",
       "    </tr>\n",
       "    <tr>\n",
       "      <th>4840</th>\n",
       "      <td>218 Gran Tourer</td>\n",
       "      <td>19633</td>\n",
       "      <td>110</td>\n",
       "      <td>2015-10-01</td>\n",
       "      <td>diesel</td>\n",
       "      <td>grey</td>\n",
       "      <td>van</td>\n",
       "      <td>False</td>\n",
       "      <td>True</td>\n",
       "      <td>False</td>\n",
       "      <td>False</td>\n",
       "      <td>False</td>\n",
       "      <td>False</td>\n",
       "      <td>True</td>\n",
       "      <td>True</td>\n",
       "      <td>17000</td>\n",
       "      <td>2018-09-01</td>\n",
       "    </tr>\n",
       "    <tr>\n",
       "      <th>4841</th>\n",
       "      <td>218 Active Tourer</td>\n",
       "      <td>27920</td>\n",
       "      <td>110</td>\n",
       "      <td>2016-04-01</td>\n",
       "      <td>diesel</td>\n",
       "      <td>brown</td>\n",
       "      <td>van</td>\n",
       "      <td>True</td>\n",
       "      <td>True</td>\n",
       "      <td>False</td>\n",
       "      <td>False</td>\n",
       "      <td>False</td>\n",
       "      <td>False</td>\n",
       "      <td>True</td>\n",
       "      <td>True</td>\n",
       "      <td>22700</td>\n",
       "      <td>2018-09-01</td>\n",
       "    </tr>\n",
       "    <tr>\n",
       "      <th>4842</th>\n",
       "      <td>525</td>\n",
       "      <td>195840</td>\n",
       "      <td>160</td>\n",
       "      <td>2013-01-01</td>\n",
       "      <td>diesel</td>\n",
       "      <td>grey</td>\n",
       "      <td>van</td>\n",
       "      <td>True</td>\n",
       "      <td>True</td>\n",
       "      <td>False</td>\n",
       "      <td>False</td>\n",
       "      <td>True</td>\n",
       "      <td>False</td>\n",
       "      <td>True</td>\n",
       "      <td>True</td>\n",
       "      <td>15500</td>\n",
       "      <td>2018-09-01</td>\n",
       "    </tr>\n",
       "  </tbody>\n",
       "</table>\n",
       "<p>4843 rows × 17 columns</p>\n",
       "</div>"
      ],
      "text/plain": [
       "              model_key  mileage  engine_power registration_date    fuel  \\\n",
       "0                   118   140411           100        2012-02-01  diesel   \n",
       "1                    M4    13929           317        2016-04-01  petrol   \n",
       "2                   320   183297           120        2012-04-01  diesel   \n",
       "3                   420   128035           135        2014-07-01  diesel   \n",
       "4                   425    97097           160        2014-12-01  diesel   \n",
       "...                 ...      ...           ...               ...     ...   \n",
       "4838    218 Gran Tourer    39743           110        2015-10-01  diesel   \n",
       "4839  218 Active Tourer    49832           100        2015-06-01  diesel   \n",
       "4840    218 Gran Tourer    19633           110        2015-10-01  diesel   \n",
       "4841  218 Active Tourer    27920           110        2016-04-01  diesel   \n",
       "4842                525   195840           160        2013-01-01  diesel   \n",
       "\n",
       "     paint_color     car_type  feature_1  feature_2  feature_3  feature_4  \\\n",
       "0          black  convertible       True       True      False      False   \n",
       "1           grey  convertible       True       True      False      False   \n",
       "2          white  convertible      False      False      False      False   \n",
       "3            red  convertible       True       True      False      False   \n",
       "4         silver  convertible       True       True      False      False   \n",
       "...          ...          ...        ...        ...        ...        ...   \n",
       "4838       black          van      False       True      False      False   \n",
       "4839        grey          van      False       True      False      False   \n",
       "4840        grey          van      False       True      False      False   \n",
       "4841       brown          van       True       True      False      False   \n",
       "4842        grey          van       True       True      False      False   \n",
       "\n",
       "      feature_5  feature_6  feature_7  feature_8  price     sold_at  \n",
       "0          True       True       True      False  11300  2018-01-01  \n",
       "1         False       True       True       True  69700  2018-02-01  \n",
       "2          True      False       True      False  10200  2018-02-01  \n",
       "3          True       True       True       True  25100  2018-02-01  \n",
       "4         False       True       True       True  33400  2018-04-01  \n",
       "...         ...        ...        ...        ...    ...         ...  \n",
       "4838      False      False       True      False  14600  2018-08-01  \n",
       "4839      False      False       True       True  17500  2018-08-01  \n",
       "4840      False      False       True       True  17000  2018-09-01  \n",
       "4841      False      False       True       True  22700  2018-09-01  \n",
       "4842       True      False       True       True  15500  2018-09-01  \n",
       "\n",
       "[4843 rows x 17 columns]"
      ]
     },
     "execution_count": 92,
     "metadata": {},
     "output_type": "execute_result"
    }
   ],
   "source": [
    "df"
   ]
  },
  {
   "cell_type": "markdown",
   "id": "85e91d28",
   "metadata": {},
   "source": [
    "# Categorical Encoding"
   ]
  },
  {
   "cell_type": "code",
   "execution_count": 93,
   "id": "755a375e",
   "metadata": {},
   "outputs": [],
   "source": [
    "le = LabelEncoder()"
   ]
  },
  {
   "cell_type": "code",
   "execution_count": 94,
   "id": "4788a774",
   "metadata": {
    "scrolled": true
   },
   "outputs": [
    {
     "data": {
      "text/plain": [
       "model_key            object\n",
       "mileage               int64\n",
       "engine_power          int64\n",
       "registration_date    object\n",
       "fuel                 object\n",
       "paint_color          object\n",
       "car_type             object\n",
       "feature_1              bool\n",
       "feature_2              bool\n",
       "feature_3              bool\n",
       "feature_4              bool\n",
       "feature_5              bool\n",
       "feature_6              bool\n",
       "feature_7              bool\n",
       "feature_8              bool\n",
       "price                 int64\n",
       "sold_at              object\n",
       "dtype: object"
      ]
     },
     "execution_count": 94,
     "metadata": {},
     "output_type": "execute_result"
    }
   ],
   "source": [
    "df.dtypes"
   ]
  },
  {
   "cell_type": "markdown",
   "id": "a5d7e7e5",
   "metadata": {},
   "source": [
    "#### Replacing the values in columns can also work"
   ]
  },
  {
   "cell_type": "code",
   "execution_count": 179,
   "id": "658fe6d0",
   "metadata": {},
   "outputs": [],
   "source": [
    "df['model_key'] = le.fit_transform(df['model_key'])+1"
   ]
  },
  {
   "cell_type": "code",
   "execution_count": 180,
   "id": "19d78700",
   "metadata": {},
   "outputs": [],
   "source": [
    "#+1 to avoid 0\n",
    "df['fuel'] = le.fit_transform(df['fuel'])+1\n",
    "df['paint_color'] = le.fit_transform(df['paint_color'])+1\n",
    "df['car_type'] = le.fit_transform(df['car_type'])+1"
   ]
  },
  {
   "cell_type": "code",
   "execution_count": 121,
   "id": "db8f6abb",
   "metadata": {},
   "outputs": [
    {
     "data": {
      "text/plain": [
       "model_key             int32\n",
       "mileage               int64\n",
       "engine_power          int64\n",
       "registration_date    object\n",
       "fuel                  int32\n",
       "paint_color           int32\n",
       "car_type              int32\n",
       "feature_1              bool\n",
       "feature_2              bool\n",
       "feature_3              bool\n",
       "feature_4              bool\n",
       "feature_5              bool\n",
       "feature_6              bool\n",
       "feature_7              bool\n",
       "feature_8              bool\n",
       "price                 int64\n",
       "sold_at              object\n",
       "dtype: object"
      ]
     },
     "execution_count": 121,
     "metadata": {},
     "output_type": "execute_result"
    }
   ],
   "source": [
    "df.dtypes"
   ]
  },
  {
   "cell_type": "markdown",
   "id": "2240111a",
   "metadata": {},
   "source": [
    "# Encoding the date "
   ]
  },
  {
   "cell_type": "code",
   "execution_count": 122,
   "id": "564424a9",
   "metadata": {},
   "outputs": [
    {
     "data": {
      "text/plain": [
       "2771    1990-03-01\n",
       "3062    1994-01-01\n",
       "25      1995-10-01\n",
       "41      1996-08-01\n",
       "2829    1996-10-01\n",
       "           ...    \n",
       "3588    2017-02-01\n",
       "2938    2017-03-01\n",
       "3902    2017-04-01\n",
       "3935    2017-07-01\n",
       "140     2017-11-01\n",
       "Name: registration_date, Length: 4843, dtype: object"
      ]
     },
     "execution_count": 122,
     "metadata": {},
     "output_type": "execute_result"
    }
   ],
   "source": [
    "df['registration_date'].sort_values()"
   ]
  },
  {
   "cell_type": "code",
   "execution_count": 181,
   "id": "6216a9fe",
   "metadata": {},
   "outputs": [],
   "source": [
    "#manually binning the dates to 3 bins with 1,2,3 as their values with a gap of 10 years\n",
    "df['registration_date'] = [1 if(i>=\"1990-03-01\" and i<\"2000-01-01\") else 2 if(i>=\"2000-01-01\" and i<\"2010-01-01\")\n",
    "                            else 3 for i in df['registration_date']]"
   ]
  },
  {
   "cell_type": "code",
   "execution_count": 124,
   "id": "9c377f56",
   "metadata": {},
   "outputs": [
    {
     "data": {
      "text/plain": [
       "0       2018-01-01\n",
       "314     2018-01-01\n",
       "313     2018-01-01\n",
       "312     2018-01-01\n",
       "311     2018-01-01\n",
       "           ...    \n",
       "2455    2018-09-01\n",
       "2454    2018-09-01\n",
       "2453    2018-09-01\n",
       "2034    2018-09-01\n",
       "4842    2018-09-01\n",
       "Name: sold_at, Length: 4843, dtype: object"
      ]
     },
     "execution_count": 124,
     "metadata": {},
     "output_type": "execute_result"
    }
   ],
   "source": [
    "df['sold_at'].sort_values() #only 1 year"
   ]
  },
  {
   "cell_type": "code",
   "execution_count": 125,
   "id": "04b08712",
   "metadata": {},
   "outputs": [
    {
     "data": {
      "text/plain": [
       "array(['2018-01-01', '2018-02-01', '2018-04-01', '2018-03-01',\n",
       "       '2018-09-01', '2018-05-01', '2018-06-01', '2018-07-01',\n",
       "       '2018-08-01'], dtype=object)"
      ]
     },
     "execution_count": 125,
     "metadata": {},
     "output_type": "execute_result"
    }
   ],
   "source": [
    "df['sold_at'].unique()"
   ]
  },
  {
   "cell_type": "markdown",
   "id": "49b71b2c",
   "metadata": {},
   "source": [
    "##### Rather than creating bins for \"sold_at\", it is better to replace these values manually."
   ]
  },
  {
   "cell_type": "code",
   "execution_count": 182,
   "id": "02e42816",
   "metadata": {},
   "outputs": [],
   "source": [
    "df['sold_at'] = df['sold_at'].replace('2018-01-01',1)\n",
    "df['sold_at'] = df['sold_at'].replace('2018-02-01',2)\n",
    "df['sold_at'] = df['sold_at'].replace('2018-04-01',3)\n",
    "df['sold_at'] = df['sold_at'].replace('2018-03-01',4)\n",
    "df['sold_at'] = df['sold_at'].replace('2018-09-01',5)\n",
    "df['sold_at'] = df['sold_at'].replace('2018-05-01',6)\n",
    "df['sold_at'] = df['sold_at'].replace('2018-06-01',7)\n",
    "df['sold_at'] = df['sold_at'].replace('2018-07-01',8)\n",
    "df['sold_at'] = df['sold_at'].replace('2018-08-01',9)"
   ]
  },
  {
   "cell_type": "code",
   "execution_count": 127,
   "id": "a08468d3",
   "metadata": {},
   "outputs": [
    {
     "data": {
      "text/html": [
       "<div>\n",
       "<style scoped>\n",
       "    .dataframe tbody tr th:only-of-type {\n",
       "        vertical-align: middle;\n",
       "    }\n",
       "\n",
       "    .dataframe tbody tr th {\n",
       "        vertical-align: top;\n",
       "    }\n",
       "\n",
       "    .dataframe thead th {\n",
       "        text-align: right;\n",
       "    }\n",
       "</style>\n",
       "<table border=\"1\" class=\"dataframe\">\n",
       "  <thead>\n",
       "    <tr style=\"text-align: right;\">\n",
       "      <th></th>\n",
       "      <th>model_key</th>\n",
       "      <th>mileage</th>\n",
       "      <th>engine_power</th>\n",
       "      <th>registration_date</th>\n",
       "      <th>fuel</th>\n",
       "      <th>paint_color</th>\n",
       "      <th>car_type</th>\n",
       "      <th>feature_1</th>\n",
       "      <th>feature_2</th>\n",
       "      <th>feature_3</th>\n",
       "      <th>feature_4</th>\n",
       "      <th>feature_5</th>\n",
       "      <th>feature_6</th>\n",
       "      <th>feature_7</th>\n",
       "      <th>feature_8</th>\n",
       "      <th>price</th>\n",
       "      <th>sold_at</th>\n",
       "    </tr>\n",
       "  </thead>\n",
       "  <tbody>\n",
       "    <tr>\n",
       "      <th>0</th>\n",
       "      <td>3</td>\n",
       "      <td>140411</td>\n",
       "      <td>100</td>\n",
       "      <td>3</td>\n",
       "      <td>1</td>\n",
       "      <td>2</td>\n",
       "      <td>1</td>\n",
       "      <td>True</td>\n",
       "      <td>True</td>\n",
       "      <td>False</td>\n",
       "      <td>False</td>\n",
       "      <td>True</td>\n",
       "      <td>True</td>\n",
       "      <td>True</td>\n",
       "      <td>False</td>\n",
       "      <td>11300</td>\n",
       "      <td>1</td>\n",
       "    </tr>\n",
       "    <tr>\n",
       "      <th>1</th>\n",
       "      <td>62</td>\n",
       "      <td>13929</td>\n",
       "      <td>317</td>\n",
       "      <td>3</td>\n",
       "      <td>4</td>\n",
       "      <td>6</td>\n",
       "      <td>1</td>\n",
       "      <td>True</td>\n",
       "      <td>True</td>\n",
       "      <td>False</td>\n",
       "      <td>False</td>\n",
       "      <td>False</td>\n",
       "      <td>True</td>\n",
       "      <td>True</td>\n",
       "      <td>True</td>\n",
       "      <td>69700</td>\n",
       "      <td>2</td>\n",
       "    </tr>\n",
       "    <tr>\n",
       "      <th>2</th>\n",
       "      <td>22</td>\n",
       "      <td>183297</td>\n",
       "      <td>120</td>\n",
       "      <td>3</td>\n",
       "      <td>1</td>\n",
       "      <td>10</td>\n",
       "      <td>1</td>\n",
       "      <td>False</td>\n",
       "      <td>False</td>\n",
       "      <td>False</td>\n",
       "      <td>False</td>\n",
       "      <td>True</td>\n",
       "      <td>False</td>\n",
       "      <td>True</td>\n",
       "      <td>False</td>\n",
       "      <td>10200</td>\n",
       "      <td>2</td>\n",
       "    </tr>\n",
       "    <tr>\n",
       "      <th>3</th>\n",
       "      <td>32</td>\n",
       "      <td>128035</td>\n",
       "      <td>135</td>\n",
       "      <td>3</td>\n",
       "      <td>1</td>\n",
       "      <td>8</td>\n",
       "      <td>1</td>\n",
       "      <td>True</td>\n",
       "      <td>True</td>\n",
       "      <td>False</td>\n",
       "      <td>False</td>\n",
       "      <td>True</td>\n",
       "      <td>True</td>\n",
       "      <td>True</td>\n",
       "      <td>True</td>\n",
       "      <td>25100</td>\n",
       "      <td>2</td>\n",
       "    </tr>\n",
       "    <tr>\n",
       "      <th>4</th>\n",
       "      <td>34</td>\n",
       "      <td>97097</td>\n",
       "      <td>160</td>\n",
       "      <td>3</td>\n",
       "      <td>1</td>\n",
       "      <td>9</td>\n",
       "      <td>1</td>\n",
       "      <td>True</td>\n",
       "      <td>True</td>\n",
       "      <td>False</td>\n",
       "      <td>False</td>\n",
       "      <td>False</td>\n",
       "      <td>True</td>\n",
       "      <td>True</td>\n",
       "      <td>True</td>\n",
       "      <td>33400</td>\n",
       "      <td>3</td>\n",
       "    </tr>\n",
       "    <tr>\n",
       "      <th>...</th>\n",
       "      <td>...</td>\n",
       "      <td>...</td>\n",
       "      <td>...</td>\n",
       "      <td>...</td>\n",
       "      <td>...</td>\n",
       "      <td>...</td>\n",
       "      <td>...</td>\n",
       "      <td>...</td>\n",
       "      <td>...</td>\n",
       "      <td>...</td>\n",
       "      <td>...</td>\n",
       "      <td>...</td>\n",
       "      <td>...</td>\n",
       "      <td>...</td>\n",
       "      <td>...</td>\n",
       "      <td>...</td>\n",
       "      <td>...</td>\n",
       "    </tr>\n",
       "    <tr>\n",
       "      <th>4838</th>\n",
       "      <td>14</td>\n",
       "      <td>39743</td>\n",
       "      <td>110</td>\n",
       "      <td>3</td>\n",
       "      <td>1</td>\n",
       "      <td>2</td>\n",
       "      <td>8</td>\n",
       "      <td>False</td>\n",
       "      <td>True</td>\n",
       "      <td>False</td>\n",
       "      <td>False</td>\n",
       "      <td>False</td>\n",
       "      <td>False</td>\n",
       "      <td>True</td>\n",
       "      <td>False</td>\n",
       "      <td>14600</td>\n",
       "      <td>9</td>\n",
       "    </tr>\n",
       "    <tr>\n",
       "      <th>4839</th>\n",
       "      <td>13</td>\n",
       "      <td>49832</td>\n",
       "      <td>100</td>\n",
       "      <td>3</td>\n",
       "      <td>1</td>\n",
       "      <td>6</td>\n",
       "      <td>8</td>\n",
       "      <td>False</td>\n",
       "      <td>True</td>\n",
       "      <td>False</td>\n",
       "      <td>False</td>\n",
       "      <td>False</td>\n",
       "      <td>False</td>\n",
       "      <td>True</td>\n",
       "      <td>True</td>\n",
       "      <td>17500</td>\n",
       "      <td>9</td>\n",
       "    </tr>\n",
       "    <tr>\n",
       "      <th>4840</th>\n",
       "      <td>14</td>\n",
       "      <td>19633</td>\n",
       "      <td>110</td>\n",
       "      <td>3</td>\n",
       "      <td>1</td>\n",
       "      <td>6</td>\n",
       "      <td>8</td>\n",
       "      <td>False</td>\n",
       "      <td>True</td>\n",
       "      <td>False</td>\n",
       "      <td>False</td>\n",
       "      <td>False</td>\n",
       "      <td>False</td>\n",
       "      <td>True</td>\n",
       "      <td>True</td>\n",
       "      <td>17000</td>\n",
       "      <td>5</td>\n",
       "    </tr>\n",
       "    <tr>\n",
       "      <th>4841</th>\n",
       "      <td>13</td>\n",
       "      <td>27920</td>\n",
       "      <td>110</td>\n",
       "      <td>3</td>\n",
       "      <td>1</td>\n",
       "      <td>4</td>\n",
       "      <td>8</td>\n",
       "      <td>True</td>\n",
       "      <td>True</td>\n",
       "      <td>False</td>\n",
       "      <td>False</td>\n",
       "      <td>False</td>\n",
       "      <td>False</td>\n",
       "      <td>True</td>\n",
       "      <td>True</td>\n",
       "      <td>22700</td>\n",
       "      <td>5</td>\n",
       "    </tr>\n",
       "    <tr>\n",
       "      <th>4842</th>\n",
       "      <td>43</td>\n",
       "      <td>195840</td>\n",
       "      <td>160</td>\n",
       "      <td>3</td>\n",
       "      <td>1</td>\n",
       "      <td>6</td>\n",
       "      <td>8</td>\n",
       "      <td>True</td>\n",
       "      <td>True</td>\n",
       "      <td>False</td>\n",
       "      <td>False</td>\n",
       "      <td>True</td>\n",
       "      <td>False</td>\n",
       "      <td>True</td>\n",
       "      <td>True</td>\n",
       "      <td>15500</td>\n",
       "      <td>5</td>\n",
       "    </tr>\n",
       "  </tbody>\n",
       "</table>\n",
       "<p>4843 rows × 17 columns</p>\n",
       "</div>"
      ],
      "text/plain": [
       "      model_key  mileage  engine_power  registration_date  fuel  paint_color  \\\n",
       "0             3   140411           100                  3     1            2   \n",
       "1            62    13929           317                  3     4            6   \n",
       "2            22   183297           120                  3     1           10   \n",
       "3            32   128035           135                  3     1            8   \n",
       "4            34    97097           160                  3     1            9   \n",
       "...         ...      ...           ...                ...   ...          ...   \n",
       "4838         14    39743           110                  3     1            2   \n",
       "4839         13    49832           100                  3     1            6   \n",
       "4840         14    19633           110                  3     1            6   \n",
       "4841         13    27920           110                  3     1            4   \n",
       "4842         43   195840           160                  3     1            6   \n",
       "\n",
       "      car_type  feature_1  feature_2  feature_3  feature_4  feature_5  \\\n",
       "0            1       True       True      False      False       True   \n",
       "1            1       True       True      False      False      False   \n",
       "2            1      False      False      False      False       True   \n",
       "3            1       True       True      False      False       True   \n",
       "4            1       True       True      False      False      False   \n",
       "...        ...        ...        ...        ...        ...        ...   \n",
       "4838         8      False       True      False      False      False   \n",
       "4839         8      False       True      False      False      False   \n",
       "4840         8      False       True      False      False      False   \n",
       "4841         8       True       True      False      False      False   \n",
       "4842         8       True       True      False      False       True   \n",
       "\n",
       "      feature_6  feature_7  feature_8  price  sold_at  \n",
       "0          True       True      False  11300        1  \n",
       "1          True       True       True  69700        2  \n",
       "2         False       True      False  10200        2  \n",
       "3          True       True       True  25100        2  \n",
       "4          True       True       True  33400        3  \n",
       "...         ...        ...        ...    ...      ...  \n",
       "4838      False       True      False  14600        9  \n",
       "4839      False       True       True  17500        9  \n",
       "4840      False       True       True  17000        5  \n",
       "4841      False       True       True  22700        5  \n",
       "4842      False       True       True  15500        5  \n",
       "\n",
       "[4843 rows x 17 columns]"
      ]
     },
     "execution_count": 127,
     "metadata": {},
     "output_type": "execute_result"
    }
   ],
   "source": [
    "df"
   ]
  },
  {
   "cell_type": "markdown",
   "id": "5556a664",
   "metadata": {},
   "source": [
    "## Encoding true,false of all features"
   ]
  },
  {
   "cell_type": "code",
   "execution_count": 183,
   "id": "ef520bfa",
   "metadata": {},
   "outputs": [],
   "source": [
    "for i in range(1,9):\n",
    "    df['feature_'+str(i)]=df['feature_'+str(i)].replace('True',1).replace('False',0)\n",
    "    df['feature_'+str(i)]=df['feature_'+str(i)].astype(int)"
   ]
  },
  {
   "cell_type": "code",
   "execution_count": 184,
   "id": "723fcbd7",
   "metadata": {},
   "outputs": [
    {
     "data": {
      "text/html": [
       "<div>\n",
       "<style scoped>\n",
       "    .dataframe tbody tr th:only-of-type {\n",
       "        vertical-align: middle;\n",
       "    }\n",
       "\n",
       "    .dataframe tbody tr th {\n",
       "        vertical-align: top;\n",
       "    }\n",
       "\n",
       "    .dataframe thead th {\n",
       "        text-align: right;\n",
       "    }\n",
       "</style>\n",
       "<table border=\"1\" class=\"dataframe\">\n",
       "  <thead>\n",
       "    <tr style=\"text-align: right;\">\n",
       "      <th></th>\n",
       "      <th>model_key</th>\n",
       "      <th>mileage</th>\n",
       "      <th>engine_power</th>\n",
       "      <th>registration_date</th>\n",
       "      <th>fuel</th>\n",
       "      <th>paint_color</th>\n",
       "      <th>car_type</th>\n",
       "      <th>feature_1</th>\n",
       "      <th>feature_2</th>\n",
       "      <th>feature_3</th>\n",
       "      <th>feature_4</th>\n",
       "      <th>feature_5</th>\n",
       "      <th>feature_6</th>\n",
       "      <th>feature_7</th>\n",
       "      <th>feature_8</th>\n",
       "      <th>price</th>\n",
       "      <th>sold_at</th>\n",
       "    </tr>\n",
       "  </thead>\n",
       "  <tbody>\n",
       "    <tr>\n",
       "      <th>0</th>\n",
       "      <td>3</td>\n",
       "      <td>140411</td>\n",
       "      <td>100</td>\n",
       "      <td>3</td>\n",
       "      <td>1</td>\n",
       "      <td>2</td>\n",
       "      <td>1</td>\n",
       "      <td>1</td>\n",
       "      <td>1</td>\n",
       "      <td>0</td>\n",
       "      <td>0</td>\n",
       "      <td>1</td>\n",
       "      <td>1</td>\n",
       "      <td>1</td>\n",
       "      <td>0</td>\n",
       "      <td>11300</td>\n",
       "      <td>1</td>\n",
       "    </tr>\n",
       "    <tr>\n",
       "      <th>1</th>\n",
       "      <td>62</td>\n",
       "      <td>13929</td>\n",
       "      <td>317</td>\n",
       "      <td>3</td>\n",
       "      <td>4</td>\n",
       "      <td>6</td>\n",
       "      <td>1</td>\n",
       "      <td>1</td>\n",
       "      <td>1</td>\n",
       "      <td>0</td>\n",
       "      <td>0</td>\n",
       "      <td>0</td>\n",
       "      <td>1</td>\n",
       "      <td>1</td>\n",
       "      <td>1</td>\n",
       "      <td>69700</td>\n",
       "      <td>2</td>\n",
       "    </tr>\n",
       "    <tr>\n",
       "      <th>2</th>\n",
       "      <td>22</td>\n",
       "      <td>183297</td>\n",
       "      <td>120</td>\n",
       "      <td>3</td>\n",
       "      <td>1</td>\n",
       "      <td>10</td>\n",
       "      <td>1</td>\n",
       "      <td>0</td>\n",
       "      <td>0</td>\n",
       "      <td>0</td>\n",
       "      <td>0</td>\n",
       "      <td>1</td>\n",
       "      <td>0</td>\n",
       "      <td>1</td>\n",
       "      <td>0</td>\n",
       "      <td>10200</td>\n",
       "      <td>2</td>\n",
       "    </tr>\n",
       "    <tr>\n",
       "      <th>3</th>\n",
       "      <td>32</td>\n",
       "      <td>128035</td>\n",
       "      <td>135</td>\n",
       "      <td>3</td>\n",
       "      <td>1</td>\n",
       "      <td>8</td>\n",
       "      <td>1</td>\n",
       "      <td>1</td>\n",
       "      <td>1</td>\n",
       "      <td>0</td>\n",
       "      <td>0</td>\n",
       "      <td>1</td>\n",
       "      <td>1</td>\n",
       "      <td>1</td>\n",
       "      <td>1</td>\n",
       "      <td>25100</td>\n",
       "      <td>2</td>\n",
       "    </tr>\n",
       "    <tr>\n",
       "      <th>4</th>\n",
       "      <td>34</td>\n",
       "      <td>97097</td>\n",
       "      <td>160</td>\n",
       "      <td>3</td>\n",
       "      <td>1</td>\n",
       "      <td>9</td>\n",
       "      <td>1</td>\n",
       "      <td>1</td>\n",
       "      <td>1</td>\n",
       "      <td>0</td>\n",
       "      <td>0</td>\n",
       "      <td>0</td>\n",
       "      <td>1</td>\n",
       "      <td>1</td>\n",
       "      <td>1</td>\n",
       "      <td>33400</td>\n",
       "      <td>3</td>\n",
       "    </tr>\n",
       "    <tr>\n",
       "      <th>...</th>\n",
       "      <td>...</td>\n",
       "      <td>...</td>\n",
       "      <td>...</td>\n",
       "      <td>...</td>\n",
       "      <td>...</td>\n",
       "      <td>...</td>\n",
       "      <td>...</td>\n",
       "      <td>...</td>\n",
       "      <td>...</td>\n",
       "      <td>...</td>\n",
       "      <td>...</td>\n",
       "      <td>...</td>\n",
       "      <td>...</td>\n",
       "      <td>...</td>\n",
       "      <td>...</td>\n",
       "      <td>...</td>\n",
       "      <td>...</td>\n",
       "    </tr>\n",
       "    <tr>\n",
       "      <th>4838</th>\n",
       "      <td>14</td>\n",
       "      <td>39743</td>\n",
       "      <td>110</td>\n",
       "      <td>3</td>\n",
       "      <td>1</td>\n",
       "      <td>2</td>\n",
       "      <td>8</td>\n",
       "      <td>0</td>\n",
       "      <td>1</td>\n",
       "      <td>0</td>\n",
       "      <td>0</td>\n",
       "      <td>0</td>\n",
       "      <td>0</td>\n",
       "      <td>1</td>\n",
       "      <td>0</td>\n",
       "      <td>14600</td>\n",
       "      <td>9</td>\n",
       "    </tr>\n",
       "    <tr>\n",
       "      <th>4839</th>\n",
       "      <td>13</td>\n",
       "      <td>49832</td>\n",
       "      <td>100</td>\n",
       "      <td>3</td>\n",
       "      <td>1</td>\n",
       "      <td>6</td>\n",
       "      <td>8</td>\n",
       "      <td>0</td>\n",
       "      <td>1</td>\n",
       "      <td>0</td>\n",
       "      <td>0</td>\n",
       "      <td>0</td>\n",
       "      <td>0</td>\n",
       "      <td>1</td>\n",
       "      <td>1</td>\n",
       "      <td>17500</td>\n",
       "      <td>9</td>\n",
       "    </tr>\n",
       "    <tr>\n",
       "      <th>4840</th>\n",
       "      <td>14</td>\n",
       "      <td>19633</td>\n",
       "      <td>110</td>\n",
       "      <td>3</td>\n",
       "      <td>1</td>\n",
       "      <td>6</td>\n",
       "      <td>8</td>\n",
       "      <td>0</td>\n",
       "      <td>1</td>\n",
       "      <td>0</td>\n",
       "      <td>0</td>\n",
       "      <td>0</td>\n",
       "      <td>0</td>\n",
       "      <td>1</td>\n",
       "      <td>1</td>\n",
       "      <td>17000</td>\n",
       "      <td>5</td>\n",
       "    </tr>\n",
       "    <tr>\n",
       "      <th>4841</th>\n",
       "      <td>13</td>\n",
       "      <td>27920</td>\n",
       "      <td>110</td>\n",
       "      <td>3</td>\n",
       "      <td>1</td>\n",
       "      <td>4</td>\n",
       "      <td>8</td>\n",
       "      <td>1</td>\n",
       "      <td>1</td>\n",
       "      <td>0</td>\n",
       "      <td>0</td>\n",
       "      <td>0</td>\n",
       "      <td>0</td>\n",
       "      <td>1</td>\n",
       "      <td>1</td>\n",
       "      <td>22700</td>\n",
       "      <td>5</td>\n",
       "    </tr>\n",
       "    <tr>\n",
       "      <th>4842</th>\n",
       "      <td>43</td>\n",
       "      <td>195840</td>\n",
       "      <td>160</td>\n",
       "      <td>3</td>\n",
       "      <td>1</td>\n",
       "      <td>6</td>\n",
       "      <td>8</td>\n",
       "      <td>1</td>\n",
       "      <td>1</td>\n",
       "      <td>0</td>\n",
       "      <td>0</td>\n",
       "      <td>1</td>\n",
       "      <td>0</td>\n",
       "      <td>1</td>\n",
       "      <td>1</td>\n",
       "      <td>15500</td>\n",
       "      <td>5</td>\n",
       "    </tr>\n",
       "  </tbody>\n",
       "</table>\n",
       "<p>4843 rows × 17 columns</p>\n",
       "</div>"
      ],
      "text/plain": [
       "      model_key  mileage  engine_power  registration_date  fuel  paint_color  \\\n",
       "0             3   140411           100                  3     1            2   \n",
       "1            62    13929           317                  3     4            6   \n",
       "2            22   183297           120                  3     1           10   \n",
       "3            32   128035           135                  3     1            8   \n",
       "4            34    97097           160                  3     1            9   \n",
       "...         ...      ...           ...                ...   ...          ...   \n",
       "4838         14    39743           110                  3     1            2   \n",
       "4839         13    49832           100                  3     1            6   \n",
       "4840         14    19633           110                  3     1            6   \n",
       "4841         13    27920           110                  3     1            4   \n",
       "4842         43   195840           160                  3     1            6   \n",
       "\n",
       "      car_type  feature_1  feature_2  feature_3  feature_4  feature_5  \\\n",
       "0            1          1          1          0          0          1   \n",
       "1            1          1          1          0          0          0   \n",
       "2            1          0          0          0          0          1   \n",
       "3            1          1          1          0          0          1   \n",
       "4            1          1          1          0          0          0   \n",
       "...        ...        ...        ...        ...        ...        ...   \n",
       "4838         8          0          1          0          0          0   \n",
       "4839         8          0          1          0          0          0   \n",
       "4840         8          0          1          0          0          0   \n",
       "4841         8          1          1          0          0          0   \n",
       "4842         8          1          1          0          0          1   \n",
       "\n",
       "      feature_6  feature_7  feature_8  price  sold_at  \n",
       "0             1          1          0  11300        1  \n",
       "1             1          1          1  69700        2  \n",
       "2             0          1          0  10200        2  \n",
       "3             1          1          1  25100        2  \n",
       "4             1          1          1  33400        3  \n",
       "...         ...        ...        ...    ...      ...  \n",
       "4838          0          1          0  14600        9  \n",
       "4839          0          1          1  17500        9  \n",
       "4840          0          1          1  17000        5  \n",
       "4841          0          1          1  22700        5  \n",
       "4842          0          1          1  15500        5  \n",
       "\n",
       "[4843 rows x 17 columns]"
      ]
     },
     "execution_count": 184,
     "metadata": {},
     "output_type": "execute_result"
    }
   ],
   "source": [
    "df"
   ]
  },
  {
   "cell_type": "code",
   "execution_count": 130,
   "id": "0cc91e95",
   "metadata": {},
   "outputs": [
    {
     "data": {
      "text/plain": [
       "model_key            int32\n",
       "mileage              int64\n",
       "engine_power         int64\n",
       "registration_date    int64\n",
       "fuel                 int32\n",
       "paint_color          int32\n",
       "car_type             int32\n",
       "feature_1            int32\n",
       "feature_2            int32\n",
       "feature_3            int32\n",
       "feature_4            int32\n",
       "feature_5            int32\n",
       "feature_6            int32\n",
       "feature_7            int32\n",
       "feature_8            int32\n",
       "price                int64\n",
       "sold_at              int64\n",
       "dtype: object"
      ]
     },
     "execution_count": 130,
     "metadata": {},
     "output_type": "execute_result"
    }
   ],
   "source": [
    "df.dtypes"
   ]
  },
  {
   "cell_type": "markdown",
   "id": "79ae604c",
   "metadata": {},
   "source": [
    "# Mileage and engine power"
   ]
  },
  {
   "cell_type": "code",
   "execution_count": 185,
   "id": "98e7ad84",
   "metadata": {},
   "outputs": [
    {
     "data": {
      "text/html": [
       "<div>\n",
       "<style scoped>\n",
       "    .dataframe tbody tr th:only-of-type {\n",
       "        vertical-align: middle;\n",
       "    }\n",
       "\n",
       "    .dataframe tbody tr th {\n",
       "        vertical-align: top;\n",
       "    }\n",
       "\n",
       "    .dataframe thead th {\n",
       "        text-align: right;\n",
       "    }\n",
       "</style>\n",
       "<table border=\"1\" class=\"dataframe\">\n",
       "  <thead>\n",
       "    <tr style=\"text-align: right;\">\n",
       "      <th></th>\n",
       "      <th>model_key</th>\n",
       "      <th>mileage</th>\n",
       "      <th>engine_power</th>\n",
       "      <th>registration_date</th>\n",
       "      <th>fuel</th>\n",
       "      <th>paint_color</th>\n",
       "      <th>car_type</th>\n",
       "      <th>feature_1</th>\n",
       "      <th>feature_2</th>\n",
       "      <th>feature_3</th>\n",
       "      <th>feature_4</th>\n",
       "      <th>feature_5</th>\n",
       "      <th>feature_6</th>\n",
       "      <th>feature_7</th>\n",
       "      <th>feature_8</th>\n",
       "      <th>price</th>\n",
       "      <th>sold_at</th>\n",
       "    </tr>\n",
       "  </thead>\n",
       "  <tbody>\n",
       "    <tr>\n",
       "      <th>2938</th>\n",
       "      <td>52</td>\n",
       "      <td>-64</td>\n",
       "      <td>230</td>\n",
       "      <td>3</td>\n",
       "      <td>1</td>\n",
       "      <td>2</td>\n",
       "      <td>5</td>\n",
       "      <td>1</td>\n",
       "      <td>1</td>\n",
       "      <td>0</td>\n",
       "      <td>1</td>\n",
       "      <td>0</td>\n",
       "      <td>0</td>\n",
       "      <td>1</td>\n",
       "      <td>1</td>\n",
       "      <td>75000</td>\n",
       "      <td>3</td>\n",
       "    </tr>\n",
       "    <tr>\n",
       "      <th>3765</th>\n",
       "      <td>65</td>\n",
       "      <td>81770</td>\n",
       "      <td>0</td>\n",
       "      <td>3</td>\n",
       "      <td>1</td>\n",
       "      <td>10</td>\n",
       "      <td>7</td>\n",
       "      <td>0</td>\n",
       "      <td>0</td>\n",
       "      <td>0</td>\n",
       "      <td>0</td>\n",
       "      <td>0</td>\n",
       "      <td>0</td>\n",
       "      <td>0</td>\n",
       "      <td>0</td>\n",
       "      <td>11700</td>\n",
       "      <td>4</td>\n",
       "    </tr>\n",
       "  </tbody>\n",
       "</table>\n",
       "</div>"
      ],
      "text/plain": [
       "      model_key  mileage  engine_power  registration_date  fuel  paint_color  \\\n",
       "2938         52      -64           230                  3     1            2   \n",
       "3765         65    81770             0                  3     1           10   \n",
       "\n",
       "      car_type  feature_1  feature_2  feature_3  feature_4  feature_5  \\\n",
       "2938         5          1          1          0          1          0   \n",
       "3765         7          0          0          0          0          0   \n",
       "\n",
       "      feature_6  feature_7  feature_8  price  sold_at  \n",
       "2938          0          1          1  75000        3  \n",
       "3765          0          0          0  11700        4  "
      ]
     },
     "execution_count": 185,
     "metadata": {},
     "output_type": "execute_result"
    }
   ],
   "source": [
    "columns = df[(df['mileage']<=0) | (df['engine_power']<=0)] # 2 rows\n",
    "columns"
   ]
  },
  {
   "cell_type": "code",
   "execution_count": 186,
   "id": "28856904",
   "metadata": {},
   "outputs": [],
   "source": [
    "df.drop(df[(df['mileage']<=0)].index,axis=0,inplace=True)\n",
    "df.drop(df[(df['engine_power']<=0)].index,axis=0,inplace=True)"
   ]
  },
  {
   "cell_type": "code",
   "execution_count": 187,
   "id": "9b9650c9",
   "metadata": {},
   "outputs": [
    {
     "data": {
      "text/html": [
       "<div>\n",
       "<style scoped>\n",
       "    .dataframe tbody tr th:only-of-type {\n",
       "        vertical-align: middle;\n",
       "    }\n",
       "\n",
       "    .dataframe tbody tr th {\n",
       "        vertical-align: top;\n",
       "    }\n",
       "\n",
       "    .dataframe thead th {\n",
       "        text-align: right;\n",
       "    }\n",
       "</style>\n",
       "<table border=\"1\" class=\"dataframe\">\n",
       "  <thead>\n",
       "    <tr style=\"text-align: right;\">\n",
       "      <th></th>\n",
       "      <th>model_key</th>\n",
       "      <th>mileage</th>\n",
       "      <th>engine_power</th>\n",
       "      <th>registration_date</th>\n",
       "      <th>fuel</th>\n",
       "      <th>paint_color</th>\n",
       "      <th>car_type</th>\n",
       "      <th>feature_1</th>\n",
       "      <th>feature_2</th>\n",
       "      <th>feature_3</th>\n",
       "      <th>feature_4</th>\n",
       "      <th>feature_5</th>\n",
       "      <th>feature_6</th>\n",
       "      <th>feature_7</th>\n",
       "      <th>feature_8</th>\n",
       "      <th>price</th>\n",
       "      <th>sold_at</th>\n",
       "    </tr>\n",
       "  </thead>\n",
       "  <tbody>\n",
       "  </tbody>\n",
       "</table>\n",
       "</div>"
      ],
      "text/plain": [
       "Empty DataFrame\n",
       "Columns: [model_key, mileage, engine_power, registration_date, fuel, paint_color, car_type, feature_1, feature_2, feature_3, feature_4, feature_5, feature_6, feature_7, feature_8, price, sold_at]\n",
       "Index: []"
      ]
     },
     "execution_count": 187,
     "metadata": {},
     "output_type": "execute_result"
    }
   ],
   "source": [
    "df[(df['mileage']<=0) | (df['engine_power']<=0)] #rows removed"
   ]
  },
  {
   "cell_type": "markdown",
   "id": "a31d3bd1",
   "metadata": {},
   "source": [
    "# Checking for outliers"
   ]
  },
  {
   "cell_type": "code",
   "execution_count": 156,
   "id": "bb4e0b69",
   "metadata": {},
   "outputs": [
    {
     "data": {
      "text/plain": [
       "model_key               AxesSubplot(0.125,0.786098;0.227941x0.0939024)\n",
       "mileage              AxesSubplot(0.398529,0.786098;0.227941x0.0939024)\n",
       "engine_power         AxesSubplot(0.672059,0.786098;0.227941x0.0939024)\n",
       "registration_date       AxesSubplot(0.125,0.673415;0.227941x0.0939024)\n",
       "fuel                 AxesSubplot(0.398529,0.673415;0.227941x0.0939024)\n",
       "paint_color          AxesSubplot(0.672059,0.673415;0.227941x0.0939024)\n",
       "car_type                AxesSubplot(0.125,0.560732;0.227941x0.0939024)\n",
       "feature_1            AxesSubplot(0.398529,0.560732;0.227941x0.0939024)\n",
       "feature_2            AxesSubplot(0.672059,0.560732;0.227941x0.0939024)\n",
       "feature_3               AxesSubplot(0.125,0.448049;0.227941x0.0939024)\n",
       "feature_4            AxesSubplot(0.398529,0.448049;0.227941x0.0939024)\n",
       "feature_5            AxesSubplot(0.672059,0.448049;0.227941x0.0939024)\n",
       "feature_6               AxesSubplot(0.125,0.335366;0.227941x0.0939024)\n",
       "feature_7            AxesSubplot(0.398529,0.335366;0.227941x0.0939024)\n",
       "feature_8            AxesSubplot(0.672059,0.335366;0.227941x0.0939024)\n",
       "price                   AxesSubplot(0.125,0.222683;0.227941x0.0939024)\n",
       "sold_at              AxesSubplot(0.398529,0.222683;0.227941x0.0939024)\n",
       "dtype: object"
      ]
     },
     "execution_count": 156,
     "metadata": {},
     "output_type": "execute_result"
    },
    {
     "data": {
      "image/png": "[encoded data removed]",
      "text/plain": [
       "<Figure size 1500x2000 with 21 Axes>"
      ]
     },
     "metadata": {},
     "output_type": "display_data"
    }
   ],
   "source": [
    "df.plot(kind=\"box\",subplots=True,layout=(7,3),figsize=(15,20))"
   ]
  },
  {
   "cell_type": "markdown",
   "id": "43b5982f",
   "metadata": {},
   "source": [
    "## mileage, engine power"
   ]
  },
  {
   "cell_type": "code",
   "execution_count": 165,
   "id": "345ac5df",
   "metadata": {},
   "outputs": [
    {
     "data": {
      "text/plain": [
       "<AxesSubplot:>"
      ]
     },
     "execution_count": 165,
     "metadata": {},
     "output_type": "execute_result"
    },
    {
     "data": {
      "image/png": "[encoded data removed]",
      "text/plain": [
       "<Figure size 640x480 with 1 Axes>"
      ]
     },
     "metadata": {},
     "output_type": "display_data"
    }
   ],
   "source": [
    "sns.boxplot(df['engine_power'])"
   ]
  },
  {
   "cell_type": "code",
   "execution_count": 170,
   "id": "fbde3c33",
   "metadata": {},
   "outputs": [
    {
     "data": {
      "text/plain": [
       "180.0"
      ]
     },
     "execution_count": 170,
     "metadata": {},
     "output_type": "execute_result"
    }
   ],
   "source": [
    "df['engine_power'].quantile(0.87)"
   ]
  },
  {
   "cell_type": "code",
   "execution_count": 164,
   "id": "9fe3c681",
   "metadata": {},
   "outputs": [],
   "source": [
    "# for median imputation\n",
    "\n",
    "def impute(column,quant1, quant2): #quant1 for lower fence; quant2 for upper fence\n",
    "    if quant1 is 0.0:\n",
    "        # considering upper fence\n",
    "        quantile_value_ufence = column.quantile(quant2)\n",
    "        for val in column:\n",
    "            if val < quantile_value_ufence:\n",
    "                column.replace(val,np.median(column), inplace=True)\n",
    "    \n",
    "    if quant2 is 0.0:\n",
    "        # considering lower fence\n",
    "        quantile_value_lfence = column.quantile(quant1)\n",
    "        for val in column:\n",
    "            if val > quantile_value_lfence:\n",
    "                column.replace(val,np.median(column), inplace=True)\n",
    "                \n",
    "    else:\n",
    "        quantile_value_ufence = column.quantile(quant2)\n",
    "        quantile_value_lfence = column.quantile(quant1)\n",
    "        for val in column:\n",
    "            if val > quantile_value_ufence or val < quantile_value_lfence:\n",
    "                column.replace(val,np.median(column), inplace=True)"
   ]
  },
  {
   "cell_type": "code",
   "execution_count": 188,
   "id": "0d000cd9",
   "metadata": {},
   "outputs": [],
   "source": [
    "impute(df['mileage'], 0.0, 0.98)\n",
    "impute(df['engine_power'], 0.0, 0.87)"
   ]
  },
  {
   "cell_type": "markdown",
   "id": "9ba26601",
   "metadata": {},
   "source": [
    "# FEATURE SELECTION"
   ]
  },
  {
   "cell_type": "code",
   "execution_count": 189,
   "id": "f1d40820",
   "metadata": {},
   "outputs": [],
   "source": [
    "X = df.drop(columns = ['price'])\n",
    "y = df['price']"
   ]
  },
  {
   "cell_type": "code",
   "execution_count": 190,
   "id": "f2386dcd",
   "metadata": {},
   "outputs": [
    {
     "data": {
      "text/plain": [
       "Index(['model_key', 'mileage', 'engine_power', 'registration_date', 'fuel',\n",
       "       'paint_color', 'car_type', 'feature_1', 'feature_2', 'feature_3',\n",
       "       'feature_4', 'feature_5', 'feature_6', 'feature_7', 'feature_8',\n",
       "       'sold_at'],\n",
       "      dtype='object')"
      ]
     },
     "execution_count": 190,
     "metadata": {},
     "output_type": "execute_result"
    }
   ],
   "source": [
    "X.columns"
   ]
  },
  {
   "cell_type": "code",
   "execution_count": 192,
   "id": "c9a02131",
   "metadata": {},
   "outputs": [
    {
     "data": {
      "text/plain": [
       "0       11300\n",
       "1       69700\n",
       "2       10200\n",
       "3       25100\n",
       "4       33400\n",
       "        ...  \n",
       "4838    14600\n",
       "4839    17500\n",
       "4840    17000\n",
       "4841    22700\n",
       "4842    15500\n",
       "Name: price, Length: 4841, dtype: int64"
      ]
     },
     "execution_count": 192,
     "metadata": {},
     "output_type": "execute_result"
    }
   ],
   "source": [
    "y"
   ]
  },
  {
   "cell_type": "code",
   "execution_count": 198,
   "id": "53c48103",
   "metadata": {},
   "outputs": [
    {
     "data": {
      "text/plain": [
       "(4841, 17)"
      ]
     },
     "execution_count": 198,
     "metadata": {},
     "output_type": "execute_result"
    }
   ],
   "source": [
    "df.shape"
   ]
  },
  {
   "cell_type": "markdown",
   "id": "0c514f3c",
   "metadata": {},
   "source": [
    "## 1. Information Gain"
   ]
  },
  {
   "cell_type": "code",
   "execution_count": 194,
   "id": "0a099ff5",
   "metadata": {},
   "outputs": [],
   "source": [
    "importance = mutual_info_regression(X,y)\n",
    "sample_df = pd.Series(importance, index = X.columns)"
   ]
  },
  {
   "cell_type": "code",
   "execution_count": 195,
   "id": "a17a0a23",
   "metadata": {},
   "outputs": [
    {
     "data": {
      "text/plain": [
       "engine_power         0.228954\n",
       "model_key            0.214642\n",
       "feature_8            0.176048\n",
       "registration_date    0.174280\n",
       "mileage              0.111453\n",
       "feature_4            0.111247\n",
       "feature_5            0.094953\n",
       "car_type             0.083919\n",
       "feature_2            0.072082\n",
       "feature_1            0.058350\n",
       "dtype: float64"
      ]
     },
     "execution_count": 195,
     "metadata": {},
     "output_type": "execute_result"
    }
   ],
   "source": [
    "sample_df.nlargest(10) #top 10 most important feature in our dataset"
   ]
  },
  {
   "cell_type": "markdown",
   "id": "5e4e3b40",
   "metadata": {},
   "source": [
    "## Extra Trees Regressor"
   ]
  },
  {
   "cell_type": "code",
   "execution_count": 173,
   "id": "4752ff9d",
   "metadata": {},
   "outputs": [],
   "source": [
    "ext = ExtraTreesRegressor()"
   ]
  },
  {
   "cell_type": "code",
   "execution_count": 196,
   "id": "14cb392b",
   "metadata": {},
   "outputs": [
    {
     "data": {
      "text/plain": [
       "array([0.20687093, 0.1693147 , 0.06220714, 0.07352862, 0.01068425,\n",
       "       0.0397221 , 0.03042587, 0.02201779, 0.02624576, 0.01683081,\n",
       "       0.06624758, 0.03503509, 0.01977683, 0.01130138, 0.17965738,\n",
       "       0.03013377])"
      ]
     },
     "execution_count": 196,
     "metadata": {},
     "output_type": "execute_result"
    }
   ],
   "source": [
    "ext.fit(X,y)\n",
    "ext.feature_importances_"
   ]
  },
  {
   "cell_type": "code",
   "execution_count": 197,
   "id": "d6e08546",
   "metadata": {},
   "outputs": [
    {
     "data": {
      "text/plain": [
       "<AxesSubplot:>"
      ]
     },
     "execution_count": 197,
     "metadata": {},
     "output_type": "execute_result"
    },
    {
     "data": {
      "image/png": "[encoded data removed]",
      "text/plain": [
       "<Figure size 640x480 with 1 Axes>"
      ]
     },
     "metadata": {},
     "output_type": "display_data"
    }
   ],
   "source": [
    "rank = pd.Series(ext.feature_importances_, index=X.columns)\n",
    "rank.nlargest(10).plot(kind='barh')"
   ]
  },
  {
   "cell_type": "markdown",
   "id": "d5fb3eee",
   "metadata": {},
   "source": [
    "## most 10 important feature according to ExtraTrees Regressor. Almost matches with information gain. \n",
    "\n",
    "\n",
    "## From information gain and ExtraTrees, we see feature_8 is the most important feature to predict the price of the car."
   ]
  },
  {
   "cell_type": "markdown",
   "id": "e59a898a",
   "metadata": {},
   "source": [
    "# From correlation matrix in profile report, no 2 columns have very high multi-collinearity"
   ]
  },
  {
   "cell_type": "code",
   "execution_count": 201,
   "id": "6cc070f7",
   "metadata": {},
   "outputs": [],
   "source": [
    "# checking multi-collinearity manually for confirmation\n",
    "VIF = pd.DataFrame()\n",
    "\n",
    "Xcopy = X.copy()\n",
    "ycopy = y.copy()\n",
    "Xtrain, Xtest, ytrain, ytest = train_test_split(Xcopy,ycopy,test_size=0.3,random_state=42)\n",
    "\n",
    "std = StandardScaler()\n",
    "\n",
    "Xtrain = std.fit_transform(Xtrain,ytrain)\n",
    "Xtest = std.transform(Xtest)"
   ]
  },
  {
   "cell_type": "code",
   "execution_count": 202,
   "id": "e4e972d2",
   "metadata": {},
   "outputs": [],
   "source": [
    "VIF['vif'] = [variance_inflation_factor(Xtrain,i) for i in range(Xtrain.shape[1])]"
   ]
  },
  {
   "cell_type": "code",
   "execution_count": 203,
   "id": "8952b8db",
   "metadata": {},
   "outputs": [],
   "source": [
    "VIF['columns'] = Xcopy.columns"
   ]
  },
  {
   "cell_type": "code",
   "execution_count": 204,
   "id": "ad734d53",
   "metadata": {},
   "outputs": [
    {
     "data": {
      "text/html": [
       "<div>\n",
       "<style scoped>\n",
       "    .dataframe tbody tr th:only-of-type {\n",
       "        vertical-align: middle;\n",
       "    }\n",
       "\n",
       "    .dataframe tbody tr th {\n",
       "        vertical-align: top;\n",
       "    }\n",
       "\n",
       "    .dataframe thead th {\n",
       "        text-align: right;\n",
       "    }\n",
       "</style>\n",
       "<table border=\"1\" class=\"dataframe\">\n",
       "  <thead>\n",
       "    <tr style=\"text-align: right;\">\n",
       "      <th></th>\n",
       "      <th>vif</th>\n",
       "      <th>columns</th>\n",
       "    </tr>\n",
       "  </thead>\n",
       "  <tbody>\n",
       "    <tr>\n",
       "      <th>0</th>\n",
       "      <td>2.587224</td>\n",
       "      <td>model_key</td>\n",
       "    </tr>\n",
       "    <tr>\n",
       "      <th>1</th>\n",
       "      <td>1.176882</td>\n",
       "      <td>mileage</td>\n",
       "    </tr>\n",
       "    <tr>\n",
       "      <th>2</th>\n",
       "      <td>1.649137</td>\n",
       "      <td>engine_power</td>\n",
       "    </tr>\n",
       "    <tr>\n",
       "      <th>3</th>\n",
       "      <td>1.276278</td>\n",
       "      <td>registration_date</td>\n",
       "    </tr>\n",
       "    <tr>\n",
       "      <th>4</th>\n",
       "      <td>1.082889</td>\n",
       "      <td>fuel</td>\n",
       "    </tr>\n",
       "    <tr>\n",
       "      <th>5</th>\n",
       "      <td>1.019087</td>\n",
       "      <td>paint_color</td>\n",
       "    </tr>\n",
       "    <tr>\n",
       "      <th>6</th>\n",
       "      <td>1.851311</td>\n",
       "      <td>car_type</td>\n",
       "    </tr>\n",
       "    <tr>\n",
       "      <th>7</th>\n",
       "      <td>1.372099</td>\n",
       "      <td>feature_1</td>\n",
       "    </tr>\n",
       "    <tr>\n",
       "      <th>8</th>\n",
       "      <td>1.421768</td>\n",
       "      <td>feature_2</td>\n",
       "    </tr>\n",
       "    <tr>\n",
       "      <th>9</th>\n",
       "      <td>1.140562</td>\n",
       "      <td>feature_3</td>\n",
       "    </tr>\n",
       "    <tr>\n",
       "      <th>10</th>\n",
       "      <td>1.540598</td>\n",
       "      <td>feature_4</td>\n",
       "    </tr>\n",
       "    <tr>\n",
       "      <th>11</th>\n",
       "      <td>1.430823</td>\n",
       "      <td>feature_5</td>\n",
       "    </tr>\n",
       "    <tr>\n",
       "      <th>12</th>\n",
       "      <td>1.110537</td>\n",
       "      <td>feature_6</td>\n",
       "    </tr>\n",
       "    <tr>\n",
       "      <th>13</th>\n",
       "      <td>1.368779</td>\n",
       "      <td>feature_7</td>\n",
       "    </tr>\n",
       "    <tr>\n",
       "      <th>14</th>\n",
       "      <td>1.494798</td>\n",
       "      <td>feature_8</td>\n",
       "    </tr>\n",
       "    <tr>\n",
       "      <th>15</th>\n",
       "      <td>1.027571</td>\n",
       "      <td>sold_at</td>\n",
       "    </tr>\n",
       "  </tbody>\n",
       "</table>\n",
       "</div>"
      ],
      "text/plain": [
       "         vif            columns\n",
       "0   2.587224          model_key\n",
       "1   1.176882            mileage\n",
       "2   1.649137       engine_power\n",
       "3   1.276278  registration_date\n",
       "4   1.082889               fuel\n",
       "5   1.019087        paint_color\n",
       "6   1.851311           car_type\n",
       "7   1.372099          feature_1\n",
       "8   1.421768          feature_2\n",
       "9   1.140562          feature_3\n",
       "10  1.540598          feature_4\n",
       "11  1.430823          feature_5\n",
       "12  1.110537          feature_6\n",
       "13  1.368779          feature_7\n",
       "14  1.494798          feature_8\n",
       "15  1.027571            sold_at"
      ]
     },
     "execution_count": 204,
     "metadata": {},
     "output_type": "execute_result"
    }
   ],
   "source": [
    "VIF"
   ]
  },
  {
   "cell_type": "markdown",
   "id": "48fff1d4",
   "metadata": {},
   "source": [
    "#### VIF score is not high for any columns, therefore, no need to drop any columns and everything can be used in model building"
   ]
  },
  {
   "cell_type": "markdown",
   "id": "33f7c65e",
   "metadata": {},
   "source": [
    "# Model Building"
   ]
  },
  {
   "cell_type": "code",
   "execution_count": 206,
   "id": "6a6acff2",
   "metadata": {},
   "outputs": [
    {
     "name": "stdout",
     "output_type": "stream",
     "text": [
      "(3630, 16) (1211, 16) (3630,) (1211,)\n"
     ]
    }
   ],
   "source": [
    "Xtrain, Xtest, ytrain, ytest = train_test_split(X,y,train_size=0.75, random_state=42)\n",
    "print(Xtrain.shape, Xtest.shape, ytrain.shape, ytest.shape)"
   ]
  },
  {
   "cell_type": "code",
   "execution_count": 216,
   "id": "011e9b17",
   "metadata": {},
   "outputs": [],
   "source": [
    "std = StandardScaler()\n",
    "\n",
    "Xtrain = std.fit_transform(Xtrain,ytrain)\n",
    "Xtest = std.transform(Xtest)"
   ]
  },
  {
   "cell_type": "markdown",
   "id": "a9236a32",
   "metadata": {},
   "source": [
    "# Checking which base model gives better results\n",
    "\n",
    "# Models used - \n",
    "1. Random Forest\n",
    "2. Histogram GB\n",
    "3. Light GB"
   ]
  },
  {
   "cell_type": "code",
   "execution_count": null,
   "id": "cfd63a4e",
   "metadata": {},
   "outputs": [],
   "source": [
    "new_df = pd.DataFrame()\n",
    "# pd.DataFrame(data, columns=['Name', 'Age'])"
   ]
  },
  {
   "cell_type": "markdown",
   "id": "6db9d712",
   "metadata": {},
   "source": [
    "### 1. Random Forest"
   ]
  },
  {
   "cell_type": "code",
   "execution_count": 233,
   "id": "e5b5f238",
   "metadata": {},
   "outputs": [
    {
     "data": {
      "text/plain": [
       "RandomForestRegressor()"
      ]
     },
     "execution_count": 233,
     "metadata": {},
     "output_type": "execute_result"
    }
   ],
   "source": [
    "# BASE MODEL\n",
    "rf = RandomForestRegressor()\n",
    "rf.fit(Xtrain,ytrain)"
   ]
  },
  {
   "cell_type": "code",
   "execution_count": 235,
   "id": "a8a3ced7",
   "metadata": {},
   "outputs": [
    {
     "name": "stdout",
     "output_type": "stream",
     "text": [
      "Training accuracy =  0.7472698901051376\n"
     ]
    }
   ],
   "source": [
    "scores = cross_val_score(rf, Xtrain,ytrain, scoring='r2', cv = KFold(5))\n",
    "print(\"Training accuracy = \",scores.mean())"
   ]
  },
  {
   "cell_type": "code",
   "execution_count": 236,
   "id": "e6df5394",
   "metadata": {},
   "outputs": [
    {
     "name": "stdout",
     "output_type": "stream",
     "text": [
      "Testing accuracy =  0.785949714390546\n"
     ]
    }
   ],
   "source": [
    "scores = cross_val_score(rf, Xtest,ytest, scoring='r2', cv = KFold(5))\n",
    "print(\"Testing accuracy = \",scores.mean())"
   ]
  },
  {
   "cell_type": "markdown",
   "id": "4be55f46",
   "metadata": {},
   "source": [
    "### 2. HistGB "
   ]
  },
  {
   "cell_type": "code",
   "execution_count": 254,
   "id": "54340df0",
   "metadata": {},
   "outputs": [
    {
     "data": {
      "text/plain": [
       "HistGradientBoostingRegressor()"
      ]
     },
     "execution_count": 254,
     "metadata": {},
     "output_type": "execute_result"
    }
   ],
   "source": [
    "hist  = HistGradientBoostingRegressor()\n",
    "hist.fit(Xtrain,ytrain)"
   ]
  },
  {
   "cell_type": "code",
   "execution_count": 255,
   "id": "44e86d81",
   "metadata": {},
   "outputs": [
    {
     "name": "stdout",
     "output_type": "stream",
     "text": [
      "Training accuracy =  0.7693979304350522\n"
     ]
    }
   ],
   "source": [
    "scores = cross_val_score(hist, Xtrain,ytrain, scoring='r2', cv = KFold(5))\n",
    "print(\"Training accuracy = \",scores.mean())"
   ]
  },
  {
   "cell_type": "code",
   "execution_count": 256,
   "id": "f407730e",
   "metadata": {},
   "outputs": [
    {
     "name": "stdout",
     "output_type": "stream",
     "text": [
      "Testing accuracy =  0.7501533976546723\n"
     ]
    }
   ],
   "source": [
    "scores = cross_val_score(hist, Xtest,ytest, scoring='r2', cv = KFold(5))\n",
    "print(\"Testing accuracy = \",scores.mean())"
   ]
  },
  {
   "cell_type": "markdown",
   "id": "22d50406",
   "metadata": {},
   "source": [
    "### 3. LightGBM"
   ]
  },
  {
   "cell_type": "code",
   "execution_count": 257,
   "id": "3db3b93c",
   "metadata": {},
   "outputs": [
    {
     "data": {
      "text/plain": [
       "LGBMRegressor()"
      ]
     },
     "execution_count": 257,
     "metadata": {},
     "output_type": "execute_result"
    }
   ],
   "source": [
    "lgbm = lightgbm.LGBMRegressor()\n",
    "lgbm.fit(Xtrain,ytrain)"
   ]
  },
  {
   "cell_type": "code",
   "execution_count": 258,
   "id": "1ec78c3a",
   "metadata": {},
   "outputs": [
    {
     "name": "stdout",
     "output_type": "stream",
     "text": [
      "Training accuracy =  0.7657062591848574\n"
     ]
    }
   ],
   "source": [
    "scores = cross_val_score(lgbm, Xtrain,ytrain, scoring='r2', cv = KFold(5))\n",
    "print(\"Training accuracy = \",scores.mean())"
   ]
  },
  {
   "cell_type": "code",
   "execution_count": 259,
   "id": "f3a96e7c",
   "metadata": {},
   "outputs": [
    {
     "name": "stdout",
     "output_type": "stream",
     "text": [
      "Testing accuracy =  0.7409542141124559\n"
     ]
    }
   ],
   "source": [
    "scores = cross_val_score(lgbm, Xtest,ytest, scoring='r2', cv = KFold(5))\n",
    "print(\"Testing accuracy = \",scores.mean())"
   ]
  },
  {
   "cell_type": "markdown",
   "id": "4a84090a",
   "metadata": {},
   "source": [
    "# Random Forest gives the BEST prediction but LightGBM gives better predictions at much faster rate saving a lot of time. "
   ]
  },
  {
   "cell_type": "markdown",
   "id": "bc8efd56",
   "metadata": {},
   "source": [
    "# feature_8 is the most important feature amongst all the \"unnamed\" features. "
   ]
  },
  {
   "cell_type": "code",
   "execution_count": 266,
   "id": "a9b530f0",
   "metadata": {},
   "outputs": [],
   "source": [
    "pickle.dump(lgbm,open('regmodel.pkl','wb')) # pickling model for further use"
   ]
  }
 ],
 "metadata": {
  "kernelspec": {
   "display_name": "Python 3 (ipykernel)",
   "language": "python",
   "name": "python3"
  },
  "language_info": {
   "codemirror_mode": {
    "name": "ipython",
    "version": 3
   },
   "file_extension": ".py",
   "mimetype": "text/x-python",
   "name": "python",
   "nbconvert_exporter": "python",
   "pygments_lexer": "ipython3",
   "version": "3.9.13"
  }
 },
 "nbformat": 4,
 "nbformat_minor": 5
}
